{
 "cells": [
  {
   "cell_type": "markdown",
   "id": "d08f9bc4",
   "metadata": {},
   "source": [
    "# 🎯 Decision Tree Classifier: Bank Marketing Dataset\n",
    "This project builds a decision tree model to predict whether a customer will subscribe to a term deposit, using the Bank Marketing dataset from the UCI Machine Learning Repository."
   ]
  },
  {
   "cell_type": "code",
   "execution_count": null,
   "id": "e9c24a0b",
   "metadata": {},
   "outputs": [],
   "source": [
    "import pandas as pd\n",
    "import numpy as np\n",
    "import matplotlib.pyplot as plt\n",
    "import seaborn as sns\n",
    "from sklearn.preprocessing import LabelEncoder\n",
    "from sklearn.model_selection import train_test_split\n",
    "from sklearn.tree import DecisionTreeClassifier, plot_tree\n",
    "from sklearn.metrics import accuracy_score, classification_report"
   ]
  },
  {
   "cell_type": "markdown",
   "id": "d1244ae6",
   "metadata": {},
   "source": [
    "## Step 1: Load the Dataset"
   ]
  },
  {
   "cell_type": "code",
   "execution_count": null,
   "id": "ef47d3dd",
   "metadata": {},
   "outputs": [],
   "source": [
    "# Load the dataset (ensure 'bank-full.csv' is in the same directory)\n",
    "data = pd.read_csv('bank-full.csv', sep=';')\n",
    "data.head()"
   ]
  },
  {
   "cell_type": "markdown",
   "id": "24dc0b07",
   "metadata": {},
   "source": [
    "## Step 2: Preprocessing - Encoding Categorical Variables"
   ]
  },
  {
   "cell_type": "code",
   "execution_count": null,
   "id": "cb6de741",
   "metadata": {},
   "outputs": [],
   "source": [
    "data_encoded = data.copy()\n",
    "for column in data_encoded.select_dtypes(include='object').columns:\n",
    "    data_encoded[column] = LabelEncoder().fit_transform(data_encoded[column])\n",
    "data_encoded.head()"
   ]
  },
  {
   "cell_type": "markdown",
   "id": "ed1b82b1",
   "metadata": {},
   "source": [
    "## Step 3: Split the Data"
   ]
  },
  {
   "cell_type": "code",
   "execution_count": null,
   "id": "4fbfd4b2",
   "metadata": {},
   "outputs": [],
   "source": [
    "X = data_encoded.drop('y', axis=1)\n",
    "y = data_encoded['y']\n",
    "\n",
    "X_train, X_test, y_train, y_test = train_test_split(X, y, test_size=0.3, random_state=42)"
   ]
  },
  {
   "cell_type": "markdown",
   "id": "ad58d808",
   "metadata": {},
   "source": [
    "## Step 4: Build and Train the Decision Tree Classifier"
   ]
  },
  {
   "cell_type": "code",
   "execution_count": null,
   "id": "3af157b8",
   "metadata": {},
   "outputs": [],
   "source": [
    "model = DecisionTreeClassifier()\n",
    "model.fit(X_train, y_train)"
   ]
  },
  {
   "cell_type": "markdown",
   "id": "82829c8f",
   "metadata": {},
   "source": [
    "## Step 5: Model Evaluation"
   ]
  },
  {
   "cell_type": "code",
   "execution_count": null,
   "id": "3bf39139",
   "metadata": {},
   "outputs": [],
   "source": [
    "y_pred = model.predict(X_test)\n",
    "print(\"Accuracy:\", accuracy_score(y_test, y_pred))\n",
    "print(classification_report(y_test, y_pred))"
   ]
  },
  {
   "cell_type": "markdown",
   "id": "85a6cfe9",
   "metadata": {},
   "source": [
    "## Step 6: Visualize the Decision Tree"
   ]
  },
  {
   "cell_type": "code",
   "execution_count": null,
   "id": "306276d2",
   "metadata": {},
   "outputs": [],
   "source": [
    "plt.figure(figsize=(20,10))\n",
    "plot_tree(model, filled=True, feature_names=X.columns, class_names=['No', 'Yes'])\n",
    "plt.show()"
   ]
  }
 ],
 "metadata": {},
 "nbformat": 4,
 "nbformat_minor": 5
}
